{
 "cells": [
  {
   "cell_type": "code",
   "execution_count": 1,
   "id": "852e0701",
   "metadata": {},
   "outputs": [],
   "source": [
    "import pandas as pd\n",
    "import numpy as np\n",
    "import requests\n",
    "from pandas import DataFrame\n",
    "pd.set_option('display.max_rows', None)"
   ]
  },
  {
   "cell_type": "code",
   "execution_count": 2,
   "id": "34a17e0a",
   "metadata": {},
   "outputs": [],
   "source": [
    "import re\n",
    "import math\n",
    "import jieba\n",
    "import jieba.analyse"
   ]
  },
  {
   "cell_type": "code",
   "execution_count": 8,
   "id": "d4f7382d",
   "metadata": {},
   "outputs": [],
   "source": [
    "#基于TF-IDF计算两个文本的余弦相似度\n",
    "\n",
    "#分别取关键词并生成向量\n",
    "def get_cos_similarity_tfidf(s1,s2):\n",
    "    \n",
    "    jieba.analyse.set_stop_words('/Users/julia/learndata/dic_jieba/cn_stopwords.txt') \n",
    "    jieba.analyse.set_idf_path('/Users/julia/learndata/dic_jieba/idf_dict.txt')\n",
    "    \n",
    "    res1 = jieba.analyse.extract_tags(s1, topK=20, withWeight=False)\n",
    "    res2 = jieba.analyse.extract_tags(s2, topK=20, withWeight=False)\n",
    "    key_word1=[]\n",
    "    key_word2=[]\n",
    "    \n",
    "    for word in res1:\n",
    "        key_word1.append(word)\n",
    "    for word in res2:\n",
    "        key_word2.append(word)\n",
    "        \n",
    "#     print(key_word1)\n",
    "#     print(key_word2)\n",
    "    \n",
    "    #取关键词的并集\n",
    "    key_word= list(set(key_word1+key_word2))\n",
    "    \n",
    "    #两个储存用的空向量\n",
    "    key_word_vector1= np.zeros(len(key_word))\n",
    "    key_word_vector2= np.zeros(len(key_word))\n",
    "    \n",
    "    #计算词频\n",
    "    for i in range(len(key_word)):\n",
    "        \n",
    "        for j in range(len(key_word1)):\n",
    "            if key_word[i]==key_word1[j]:\n",
    "                key_word_vector1[i]+=1\n",
    "                       \n",
    "        for k in range(len(key_word2)):\n",
    "            if key_word[i]==key_word2[k]:\n",
    "                key_word_vector2[i]+=1\n",
    "                       \n",
    "    x= key_word_vector1\n",
    "    y= key_word_vector2\n",
    "                       \n",
    "                       \n",
    "#     print(x)\n",
    "#     print(y)\n",
    "\n",
    "    nx= x / (np.sqrt(np.sum(x**2)) + 1e-8)\n",
    "    ny =y / (np.sqrt(np.sum(y**2)) + 1e-8)\n",
    "    cos_similarity_tfidf=float(np.dot(x,y)/(np.linalg.norm(x)*np.linalg.norm(y)))\n",
    "#     cos_similarity= np.dot(nx, ny)\n",
    "    return cos_similarity_tfidf"
   ]
  },
  {
   "cell_type": "code",
   "execution_count": 17,
   "id": "55ef79fe",
   "metadata": {},
   "outputs": [
    {
     "name": "stdout",
     "output_type": "stream",
     "text": [
      "计算两文本的余弦相似度为0.2897808849066627\n",
      "基于TF-IDF计算为0.09999999999999998\n",
      "基于TextRankn计算为0.13333333333333333\n"
     ]
    }
   ],
   "source": [
    "#以下为测试\n",
    "df= pd.read_csv('ads_content_7224.csv')\n",
    "df[df['ad_content'].str.contains('平安',na=False)]\n",
    "test1 = df.iloc[731,0]\n",
    "test2 = df.iloc[880,0]\n",
    "\n",
    "print('计算两文本的余弦相似度为{}'.format(get_cos_similarity(test1,test2)))\n",
    "print('基于TF-IDF计算为{}'.format(get_cos_similarity_tfidf(test1,test2)))\n",
    "print('基于TextRankn计算为{}'.format(get_cos_similarity_textrank(test1,test2)))"
   ]
  }
 ],
 "metadata": {
  "kernelspec": {
   "display_name": "Python 3",
   "language": "python",
   "name": "python3"
  },
  "language_info": {
   "codemirror_mode": {
    "name": "ipython",
    "version": 3
   },
   "file_extension": ".py",
   "mimetype": "text/x-python",
   "name": "python",
   "nbconvert_exporter": "python",
   "pygments_lexer": "ipython3",
   "version": "3.8.8"
  }
 },
 "nbformat": 4,
 "nbformat_minor": 5
}
